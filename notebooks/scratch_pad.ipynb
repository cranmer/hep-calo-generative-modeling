{
 "cells": [
  {
   "cell_type": "code",
   "execution_count": 1,
   "metadata": {
    "collapsed": false
   },
   "outputs": [],
   "source": [
    "import sys\n",
    "sys.path.append('../scripts')\n",
    "import data_loader"
   ]
  },
  {
   "cell_type": "code",
   "execution_count": 2,
   "metadata": {
    "collapsed": true
   },
   "outputs": [],
   "source": [
    "import os\n",
    "import numpy as np\n",
    "from scipy.misc import imsave\n",
    "import tensorflow as tf\n",
    "from tensorflow.contrib.layers.python import layers\n",
    "from tensorflow.examples.tutorials.mnist import input_data"
   ]
  },
  {
   "cell_type": "code",
   "execution_count": 3,
   "metadata": {
    "collapsed": true
   },
   "outputs": [],
   "source": [
    "import eval"
   ]
  },
  {
   "cell_type": "code",
   "execution_count": 6,
   "metadata": {
    "collapsed": false
   },
   "outputs": [],
   "source": [
    "\"\"\"Internal testing function.\"\"\"\n",
    "data_loader_obj = data_loader.DataLoader([100], test=True)\n",
    "batch_iter = data_loader_obj.train_batch_iter(batch_size=100, num_epochs=1)\n",
    "\n",
    "# Fake variables for testing\n",
    "session = None\n",
    "samples_op = None\n",
    "y_samples_ph = 'y_ph'\n",
    "z_samples_ph = 'z_ph'\n",
    "num_randos = 1\n",
    "class FakeSession:\n",
    "    def run(self, dummy_op, feed_dict):\n",
    "            yield 1.5 * feed_dict['y_ph'][0][1] + 3 + 10 * feed_dict['z_ph'][0]\n",
    "session = FakeSession()    "
   ]
  },
  {
   "cell_type": "code",
   "execution_count": 8,
   "metadata": {
    "collapsed": false
   },
   "outputs": [],
   "source": [
    "p0_data, p1_data = eval.prepare_energy_data(batch_iter)"
   ]
  },
  {
   "cell_type": "code",
   "execution_count": 24,
   "metadata": {
    "collapsed": false
   },
   "outputs": [
    {
     "data": {
      "text/plain": [
       "[6736.7465298370034,\n",
       " 3169.9961596324015,\n",
       " 7978.6866132295636,\n",
       " 3916.6971406359889,\n",
       " 4589.2547533133902,\n",
       " 1548.4648920214152,\n",
       " 8377.138724970504,\n",
       " 5883.0447637442967,\n",
       " 8671.2414516658137,\n",
       " 8595.089288617186,\n",
       " 5312.1811084416304,\n",
       " 2676.0355989429336,\n",
       " 2033.4155420570069,\n",
       " 2226.5471687436566,\n",
       " 7456.1777514413379,\n",
       " 1582.085485995598,\n",
       " 8301.3904136687615,\n",
       " 7781.1588651597503,\n",
       " 7426.1588319401571,\n",
       " 7463.0209137558459,\n",
       " 6480.85058542966,\n",
       " 7003.7981673558006,\n",
       " 2367.9462827580787,\n",
       " 3919.5306503843922,\n",
       " 6032.2410582896218,\n",
       " 1915.7854253052983,\n",
       " 7366.1884116023866,\n",
       " 6178.3610294656619,\n",
       " 6857.9217181191443,\n",
       " 3632.3515411081835,\n",
       " 5469.1307931281017,\n",
       " 2514.901291888064,\n",
       " 7595.2841576285409,\n",
       " 4930.5426565677762,\n",
       " 5502.7518028332706,\n",
       " 3671.450200813003,\n",
       " 8544.8301306276499,\n",
       " 5364.2700838027977,\n",
       " 2626.3481413970371,\n",
       " 1965.4777332327756,\n",
       " 2801.256385111506,\n",
       " 989.088107780163,\n",
       " 4060.250812035069,\n",
       " 2972.0324471510271,\n",
       " 8543.4766547333966,\n",
       " 4362.2642253581871,\n",
       " 4096.489863566595]"
      ]
     },
     "execution_count": 24,
     "metadata": {},
     "output_type": "execute_result"
    }
   ],
   "source": [
    "p0_data.output"
   ]
  },
  {
   "cell_type": "markdown",
   "metadata": {},
   "source": [
    "# Config"
   ]
  },
  {
   "cell_type": "code",
   "execution_count": 5,
   "metadata": {
    "collapsed": false
   },
   "outputs": [],
   "source": [
    "WIDTH = 20  # Image width (X,Y axes)\n",
    "N_SAMPLE_BINS= 10 #Right now we have 5 different momentum bins (100..500) x two particle types.  \n",
    "\n",
    "POINTS_PER_FILE = 10000\n",
    "RNG = np.random.RandomState(322)\n",
    "\n",
    "class DefaultConfig(object):\n",
    "    batch_size = 512 #TODO: why not bigger?\n",
    "    samples_batch_size = 100 #number of samples of each particle type and momentum bin.\n",
    "    z = 100\n",
    "    max_epochs = 250\n",
    "    lr = 0.0002\n",
    "    beta1=0.5\n",
    "    momentum = 0.5\n",
    "    decay_steps = 100000\n",
    "    decay_factor = 0.96\n",
    "    train_dir = '/scratch/cdg356/udon/exp/'\n",
    "    slice_idx = 12\n",
    "    data_partition = [80, 10, 10]\n",
    "    test = False\n",
    "    generator_hits = 4\n",
    "    save_freq = 1000\n",
    "    \n",
    "config = DefaultConfig"
   ]
  },
  {
   "cell_type": "code",
   "execution_count": 6,
   "metadata": {
    "collapsed": true
   },
   "outputs": [],
   "source": [
    "momentum = range(100,600,100)*2\n",
    "n_momentums = len(set(momentum))\n",
    "particle_type = [0]*5+[1]*5\n",
    "n_particles = len(set(particle_type))\n",
    "\n",
    "y = np.array(zip(particle_type,momentum)*config.samples_batch_size)\n",
    "z = np.random.uniform(-1, 1, size=(N_SAMPLE_BINS*config.samples_batch_size, config.z))"
   ]
  },
  {
   "cell_type": "code",
   "execution_count": 74,
   "metadata": {
    "collapsed": false
   },
   "outputs": [
    {
     "ename": "ValueError",
     "evalue": "last dimension shape must be known but is None",
     "output_type": "error",
     "traceback": [
      "\u001b[0;31m---------------------------------------------------------------------------\u001b[0m",
      "\u001b[0;31mValueError\u001b[0m                                Traceback (most recent call last)",
      "\u001b[0;32m<ipython-input-74-7666f81a0cd1>\u001b[0m in \u001b[0;36m<module>\u001b[0;34m()\u001b[0m\n\u001b[1;32m     27\u001b[0m \u001b[0mz\u001b[0m \u001b[0;34m=\u001b[0m \u001b[0mtf\u001b[0m\u001b[0;34m.\u001b[0m\u001b[0mconcat\u001b[0m\u001b[0;34m(\u001b[0m\u001b[0;36m0\u001b[0m\u001b[0;34m,\u001b[0m\u001b[0;34m[\u001b[0m\u001b[0mx\u001b[0m\u001b[0;34m,\u001b[0m\u001b[0my\u001b[0m\u001b[0;34m]\u001b[0m\u001b[0;34m)\u001b[0m\u001b[0;34m\u001b[0m\u001b[0m\n\u001b[1;32m     28\u001b[0m \u001b[0;34m\u001b[0m\u001b[0m\n\u001b[0;32m---> 29\u001b[0;31m \u001b[0mout\u001b[0m \u001b[0;34m=\u001b[0m \u001b[0mcompare_to_minibatch\u001b[0m\u001b[0;34m(\u001b[0m\u001b[0mz\u001b[0m\u001b[0;34m,\u001b[0m \u001b[0mcomparison_size\u001b[0m \u001b[0;34m=\u001b[0m \u001b[0;36m4\u001b[0m\u001b[0;34m,\u001b[0m \u001b[0mnum_kernels\u001b[0m\u001b[0;34m=\u001b[0m\u001b[0;36m5\u001b[0m\u001b[0;34m,\u001b[0m \u001b[0mkernel_dim\u001b[0m\u001b[0;34m=\u001b[0m\u001b[0;36m3\u001b[0m\u001b[0;34m)\u001b[0m\u001b[0;34m\u001b[0m\u001b[0m\n\u001b[0m\u001b[1;32m     30\u001b[0m \u001b[0;34m\u001b[0m\u001b[0m\n\u001b[1;32m     31\u001b[0m \u001b[0;31m# Construct a `Session` to execute the graph.\u001b[0m\u001b[0;34m\u001b[0m\u001b[0;34m\u001b[0m\u001b[0m\n",
      "\u001b[0;32m<ipython-input-74-7666f81a0cd1>\u001b[0m in \u001b[0;36mcompare_to_minibatch\u001b[0;34m(input, comparison_size, num_kernels, kernel_dim)\u001b[0m\n\u001b[1;32m     11\u001b[0m \u001b[0;34m\u001b[0m\u001b[0m\n\u001b[1;32m     12\u001b[0m     \u001b[0;31m#multiply discriminator layer by 3D tensor to produce matrix\u001b[0m\u001b[0;34m\u001b[0m\u001b[0;34m\u001b[0m\u001b[0m\n\u001b[0;32m---> 13\u001b[0;31m     \u001b[0mx\u001b[0m \u001b[0;34m=\u001b[0m \u001b[0mlayers\u001b[0m\u001b[0;34m.\u001b[0m\u001b[0mfully_connected\u001b[0m \u001b[0;34m(\u001b[0m\u001b[0mx\u001b[0m\u001b[0;34m,\u001b[0m \u001b[0mnum_kernels\u001b[0m \u001b[0;34m*\u001b[0m \u001b[0mkernel_dim\u001b[0m\u001b[0;34m)\u001b[0m\u001b[0;34m\u001b[0m\u001b[0m\n\u001b[0m\u001b[1;32m     14\u001b[0m     \u001b[0mactivation\u001b[0m \u001b[0;34m=\u001b[0m \u001b[0mtf\u001b[0m\u001b[0;34m.\u001b[0m\u001b[0mreshape\u001b[0m\u001b[0;34m(\u001b[0m\u001b[0mx\u001b[0m\u001b[0;34m,\u001b[0m \u001b[0;34m(\u001b[0m\u001b[0;34m-\u001b[0m\u001b[0;36m1\u001b[0m\u001b[0;34m,\u001b[0m \u001b[0mnum_kernels\u001b[0m\u001b[0;34m,\u001b[0m \u001b[0mkernel_dim\u001b[0m\u001b[0;34m)\u001b[0m\u001b[0;34m)\u001b[0m\u001b[0;34m\u001b[0m\u001b[0m\n\u001b[1;32m     15\u001b[0m \u001b[0;34m\u001b[0m\u001b[0m\n",
      "\u001b[0;32m/Users/charlesguthrie/anaconda/envs/tensorflow/lib/python2.7/site-packages/tensorflow/contrib/framework/python/ops/arg_scope.pyc\u001b[0m in \u001b[0;36mfunc_with_args\u001b[0;34m(*args, **kwargs)\u001b[0m\n\u001b[1;32m    169\u001b[0m       \u001b[0mcurrent_args\u001b[0m \u001b[0;34m=\u001b[0m \u001b[0mcurrent_scope\u001b[0m\u001b[0;34m[\u001b[0m\u001b[0mkey_func\u001b[0m\u001b[0;34m]\u001b[0m\u001b[0;34m.\u001b[0m\u001b[0mcopy\u001b[0m\u001b[0;34m(\u001b[0m\u001b[0;34m)\u001b[0m\u001b[0;34m\u001b[0m\u001b[0m\n\u001b[1;32m    170\u001b[0m       \u001b[0mcurrent_args\u001b[0m\u001b[0;34m.\u001b[0m\u001b[0mupdate\u001b[0m\u001b[0;34m(\u001b[0m\u001b[0mkwargs\u001b[0m\u001b[0;34m)\u001b[0m\u001b[0;34m\u001b[0m\u001b[0m\n\u001b[0;32m--> 171\u001b[0;31m     \u001b[0;32mreturn\u001b[0m \u001b[0mfunc\u001b[0m\u001b[0;34m(\u001b[0m\u001b[0;34m*\u001b[0m\u001b[0margs\u001b[0m\u001b[0;34m,\u001b[0m \u001b[0;34m**\u001b[0m\u001b[0mcurrent_args\u001b[0m\u001b[0;34m)\u001b[0m\u001b[0;34m\u001b[0m\u001b[0m\n\u001b[0m\u001b[1;32m    172\u001b[0m   \u001b[0m_add_op\u001b[0m\u001b[0;34m(\u001b[0m\u001b[0mfunc\u001b[0m\u001b[0;34m)\u001b[0m\u001b[0;34m\u001b[0m\u001b[0m\n\u001b[1;32m    173\u001b[0m   \u001b[0msetattr\u001b[0m\u001b[0;34m(\u001b[0m\u001b[0mfunc_with_args\u001b[0m\u001b[0;34m,\u001b[0m \u001b[0;34m'_key_op'\u001b[0m\u001b[0;34m,\u001b[0m \u001b[0m_key_op\u001b[0m\u001b[0;34m(\u001b[0m\u001b[0mfunc\u001b[0m\u001b[0;34m)\u001b[0m\u001b[0;34m)\u001b[0m\u001b[0;34m\u001b[0m\u001b[0m\n",
      "\u001b[0;32m/Users/charlesguthrie/anaconda/envs/tensorflow/lib/python2.7/site-packages/tensorflow/contrib/layers/python/layers/layers.pyc\u001b[0m in \u001b[0;36mfully_connected\u001b[0;34m(inputs, num_outputs, activation_fn, normalizer_fn, normalizer_params, weights_initializer, weights_regularizer, biases_initializer, biases_regularizer, reuse, variables_collections, outputs_collections, trainable, scope)\u001b[0m\n\u001b[1;32m    790\u001b[0m     \u001b[0mdtype\u001b[0m \u001b[0;34m=\u001b[0m \u001b[0minputs\u001b[0m\u001b[0;34m.\u001b[0m\u001b[0mdtype\u001b[0m\u001b[0;34m.\u001b[0m\u001b[0mbase_dtype\u001b[0m\u001b[0;34m\u001b[0m\u001b[0m\n\u001b[1;32m    791\u001b[0m     \u001b[0minputs_shape\u001b[0m \u001b[0;34m=\u001b[0m \u001b[0minputs\u001b[0m\u001b[0;34m.\u001b[0m\u001b[0mget_shape\u001b[0m\u001b[0;34m(\u001b[0m\u001b[0;34m)\u001b[0m\u001b[0;34m\u001b[0m\u001b[0m\n\u001b[0;32m--> 792\u001b[0;31m     \u001b[0mnum_input_units\u001b[0m \u001b[0;34m=\u001b[0m \u001b[0mutils\u001b[0m\u001b[0;34m.\u001b[0m\u001b[0mlast_dimension\u001b[0m\u001b[0;34m(\u001b[0m\u001b[0minputs_shape\u001b[0m\u001b[0;34m,\u001b[0m \u001b[0mmin_rank\u001b[0m\u001b[0;34m=\u001b[0m\u001b[0;36m2\u001b[0m\u001b[0;34m)\u001b[0m\u001b[0;34m\u001b[0m\u001b[0m\n\u001b[0m\u001b[1;32m    793\u001b[0m \u001b[0;34m\u001b[0m\u001b[0m\n\u001b[1;32m    794\u001b[0m     \u001b[0mstatic_shape\u001b[0m \u001b[0;34m=\u001b[0m \u001b[0minputs_shape\u001b[0m\u001b[0;34m.\u001b[0m\u001b[0mas_list\u001b[0m\u001b[0;34m(\u001b[0m\u001b[0;34m)\u001b[0m\u001b[0;34m\u001b[0m\u001b[0m\n",
      "\u001b[0;32m/Users/charlesguthrie/anaconda/envs/tensorflow/lib/python2.7/site-packages/tensorflow/contrib/layers/python/layers/utils.pyc\u001b[0m in \u001b[0;36mlast_dimension\u001b[0;34m(shape, min_rank)\u001b[0m\n\u001b[1;32m    197\u001b[0m   \u001b[0mvalue\u001b[0m \u001b[0;34m=\u001b[0m \u001b[0mdims\u001b[0m\u001b[0;34m[\u001b[0m\u001b[0;34m-\u001b[0m\u001b[0;36m1\u001b[0m\u001b[0;34m]\u001b[0m\u001b[0;34m.\u001b[0m\u001b[0mvalue\u001b[0m\u001b[0;34m\u001b[0m\u001b[0m\n\u001b[1;32m    198\u001b[0m   \u001b[0;32mif\u001b[0m \u001b[0mvalue\u001b[0m \u001b[0;32mis\u001b[0m \u001b[0mNone\u001b[0m\u001b[0;34m:\u001b[0m\u001b[0;34m\u001b[0m\u001b[0m\n\u001b[0;32m--> 199\u001b[0;31m     \u001b[0;32mraise\u001b[0m \u001b[0mValueError\u001b[0m\u001b[0;34m(\u001b[0m\u001b[0;34m'last dimension shape must be known but is None'\u001b[0m\u001b[0;34m)\u001b[0m\u001b[0;34m\u001b[0m\u001b[0m\n\u001b[0m\u001b[1;32m    200\u001b[0m   \u001b[0;32mreturn\u001b[0m \u001b[0mvalue\u001b[0m\u001b[0;34m\u001b[0m\u001b[0m\n\u001b[1;32m    201\u001b[0m \u001b[0;34m\u001b[0m\u001b[0m\n",
      "\u001b[0;31mValueError\u001b[0m: last dimension shape must be known but is None"
     ]
    }
   ],
   "source": [
    "def compare_to_minibatch(input, comparison_size = 16, num_kernels=5, kernel_dim=3):\n",
    "    '''\n",
    "    take output of intermediate layer of the discriminator,\n",
    "    and compare individual samples within the minibatch\n",
    "    '''\n",
    "\n",
    "    #take subset for comparison batch\n",
    "    slice_start = tf.shape(input)[0] - comparison_size\n",
    "    x = tf.random_shuffle(input)\n",
    "    x = tf.slice(x,[slice_start,0],[-1,-1])\n",
    "\n",
    "    #multiply discriminator layer by 3D tensor to produce matrix\n",
    "    x = layers.fully_connected (x, num_kernels * kernel_dim)\n",
    "    activation = tf.reshape(x, (-1, num_kernels, kernel_dim))\n",
    "\n",
    "    #compute L1-distance between rows of matrix\n",
    "    diffs = tf.expand_dims(activation, 3) - \\\n",
    "        tf.expand_dims(tf.transpose(activation, [1, 2, 0]), 0)\n",
    "    abs_diffs = tf.reduce_sum(tf.abs(diffs), 2)\n",
    "\n",
    "    #apply negative exponential\n",
    "    minibatch_features = tf.reduce_sum(tf.exp(-abs_diffs), 2)\n",
    "    return tf.concat(1, [input, minibatch_features])\n",
    "\n",
    "# Build a dataflow graph.\n",
    "x = tf.ones([5,15])\n",
    "y = tf.zeros([5,15])\n",
    "z = tf.concat(0,[x,y])\n",
    "\n",
    "out = compare_to_minibatch(z, comparison_size = 4, num_kernels=5, kernel_dim=3)\n",
    "\n",
    "# Construct a `Session` to execute the graph.\n",
    "sess = tf.Session()\n",
    "\n",
    "# Execute the graph and store the value that `e` represents in `result`.\n",
    "result = sess.run(out)"
   ]
  }
 ],
 "metadata": {
  "anaconda-cloud": {},
  "kernelspec": {
   "display_name": "Python 2",
   "language": "python",
   "name": "python2"
  },
  "language_info": {
   "codemirror_mode": {
    "name": "ipython",
    "version": 2
   },
   "file_extension": ".py",
   "mimetype": "text/x-python",
   "name": "python",
   "nbconvert_exporter": "python",
   "pygments_lexer": "ipython2",
   "version": "2.7.13"
  }
 },
 "nbformat": 4,
 "nbformat_minor": 1
}

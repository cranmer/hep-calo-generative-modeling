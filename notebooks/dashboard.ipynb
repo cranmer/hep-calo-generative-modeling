{
 "cells": [
  {
   "cell_type": "markdown",
   "metadata": {},
   "source": [
    "# Dashboard\n",
    "\n",
    "A summary of model results, including:\n",
    "- Total energy\n",
    "- Distribution Output / input energy\n",
    "- TODO Energy distribution \n",
    "  - metrics: Get histogram/kernel distribution of energy vs. p(energy) for a given cube, slice, pixel, or even type and incoming energy\n",
    "- Energy spread\n",
    "- Depth of max energy slice\n",
    "- % of pixels that are zero\n",
    "\n",
    "Where applicable, these metrics will be applied to: \n",
    "- Entire dataset\n",
    "- A batch\n",
    "- A cube\n",
    "- A slice\n",
    "- A pixel \n",
    "\n",
    "## TODO\n",
    "- Average energy spread across samples before plotting\n",
    "- Produce a single image of output\n",
    "- Clean it up, put it into eval.py or dashboard.py\n",
    "- Incorporate Alex's energy distribution plot\n",
    "- Incorporate Alex's output/input energy ratio plots"
   ]
  },
  {
   "cell_type": "code",
   "execution_count": 1,
   "metadata": {
    "collapsed": false
   },
   "outputs": [
    {
     "name": "stderr",
     "output_type": "stream",
     "text": [
      "Using TensorFlow backend.\n",
      "/Users/charguth/anaconda3/envs/py27/lib/python2.7/site-packages/IPython/html.py:14: ShimWarning: The `IPython.html` package has been deprecated since IPython 4.0. You should import from `notebook` instead. `IPython.html.widgets` has moved to `ipywidgets`.\n",
      "  \"`IPython.html.widgets` has moved to `ipywidgets`.\", ShimWarning)\n",
      "/Users/charguth/anaconda3/envs/py27/lib/python2.7/site-packages/matplotlib/__init__.py:1401: UserWarning:  This call to matplotlib.use() has no effect\n",
      "because the backend has already been chosen;\n",
      "matplotlib.use() must be called *before* pylab, matplotlib.pyplot,\n",
      "or matplotlib.backends is imported for the first time.\n",
      "\n",
      "  warnings.warn(_use_error_msg)\n"
     ]
    }
   ],
   "source": [
    "import pandas as pd\n",
    "import numpy as np\n",
    "import matplotlib.pyplot as plt\n",
    "import keras\n",
    "import seaborn as sns\n",
    "\n",
    "import sys\n",
    "sys.path.append('../scripts')\n",
    "import data_loader\n",
    "import viz_tools\n",
    "import rnn_flat\n",
    "import eval\n",
    "% matplotlib inline"
   ]
  },
  {
   "cell_type": "code",
   "execution_count": 2,
   "metadata": {
    "collapsed": false
   },
   "outputs": [],
   "source": [
    "def get_pct_zero(ecal):\n",
    "    '''\n",
    "    args:\n",
    "        ecal: (numpy array) can be a cube, slice, or pixel\n",
    "    returns:\n",
    "        sum of the pixel intensities\n",
    "    '''\n",
    "    flat_ecal = ecal.flatten()\n",
    "    zeros = flat_ecal[np.where(flat_ecal == 0.0)]\n",
    "    return float(len(zeros))/len(flat_ecal)"
   ]
  },
  {
   "cell_type": "code",
   "execution_count": 3,
   "metadata": {
    "collapsed": false
   },
   "outputs": [],
   "source": [
    "def get_max_layer(ecals):\n",
    "    '''\n",
    "    Takes a batch of cubes, and for each cube:\n",
    "        Gets the depth of the layer in the cube \n",
    "        with the highest total energy\n",
    "    args:\n",
    "        ecals (np.array): either 3D batch of 2D shades, \n",
    "        or 4D batch of 3D cubes) \n",
    "    returns:\n",
    "        vector of depths\n",
    "    '''\n",
    "    #TODO fix all this shit to do what the docstring says it does\n",
    "    assert len(ecals.shape)==4\n",
    "    ecals = data_loader.unroll_ecals(ecals)\n",
    "    sums = ecals.sum(axis=1)\n",
    "    return sums.argmax(axis=1)"
   ]
  },
  {
   "cell_type": "code",
   "execution_count": 4,
   "metadata": {
    "collapsed": false
   },
   "outputs": [],
   "source": [
    "def plot_depth_histogram(real,gen):\n",
    "    #TODO split into different particle types\n",
    "    real_depths = get_max_layer(real)\n",
    "    gen_depths = get_max_layer(gen)\n",
    "    \n",
    "    # Subfunction to create a histogram for one of the two kinds of particles.\n",
    "    def create_particle_histogram(real_depths, gen_depths, ax):\n",
    "\n",
    "        # When plotting the two histograms together, throw out huge outliers to ensure the graph is\n",
    "        # interpretable. 4 standard deviations should be plenty.\n",
    "        gen_depth_deviations = abs(gen_depths - np.mean(gen_depths)) / np.std(gen_depths)\n",
    "        trunc_gen_depths = gen_depths[gen_depth_deviations < 4]\n",
    "        # Set the boundaries of the histogram based on the max and min of the data\n",
    "        hist_range = (min(min(real_depths), min(trunc_gen_depths)),\n",
    "                      max(max(real_depths), max(trunc_gen_depths)))\n",
    "        real_hist_label = 'Real: $\\mu={0:.2f}$, $\\sigma={1:.2f}$'.format(real_depths.mean(),\n",
    "                                                                         real_depths.std())\n",
    "        ax.hist(real_depths, bins='auto', range=hist_range, color='red', label=real_hist_label,\n",
    "                histtype='step')\n",
    "        # Use the untruncated generated data for the mean and standard deviation stats, since the\n",
    "        # truncated data just serves to make the picture look readable.\n",
    "        gen_hist_label = 'Gen: $\\mu={0:.2f}$, $\\sigma={1:.2f}$'.format(gen_depths.mean(),\n",
    "                                                                       gen_depths.std())\n",
    "        ax.hist(trunc_gen_depths, bins='auto', range=hist_range, color='green',\n",
    "                label=gen_hist_label, histtype='step')\n",
    "        # TODO The 'best' legend location doesn't work that well...\n",
    "        ax.legend(loc='best', fancybox=True, framealpha=0.7)\n",
    "        ax.set_xlabel('Depth of maximum-energy layer')\n",
    "        ax.set_ylabel('Count')\n",
    "        ax.set_title('Distribution of Max-Layer Depths')\n",
    "    fig, ax = plt.subplots(1)\n",
    "    create_particle_histogram(real_depths,gen_depths, ax)\n",
    "    #create_particle_histogram(p1_energy_data, ax1)\n",
    "\n",
    "    fig.tight_layout()    \n",
    "\n",
    "    #st = fig.suptitle('Particle Output-to-Input Energy Ratio Histogram',\n",
    "    #                  fontsize=\"x-large\")\n",
    "    # shift subplots down:\n",
    "    #st.set_y(0.95)\n",
    "    #fig.subplots_adjust(top=0.85)\n",
    "\n",
    "    #step_str = '-{}'.format(step) if step is not None else ''\n",
    "    #filename = 'energy-hist{}.png'.format(step_str)\n",
    "    #full_path = os.path.join(output_dir, filename)\n",
    "    #plt.savefig(full_path)\n",
    "    plt.show()"
   ]
  },
  {
   "cell_type": "code",
   "execution_count": 5,
   "metadata": {
    "collapsed": false
   },
   "outputs": [],
   "source": [
    "def evaluate_gen(real,gen, sample_id):\n",
    "    '''\n",
    "    args:\n",
    "        real: (array) real cube, of shape (batch_size,width,height,depth)\n",
    "        gen: (array) batch of generated cubes, of shape (batch_size,width,height,depth)\n",
    "        sample_id: index of a sample to compare\n",
    "    '''\n",
    "    \n",
    "    print \"Total Energy Per Cube\"\n",
    "    real_energy_per_cube = np.sum(real)/real.shape[0]\n",
    "    print \"Real: {:.1f}\".format(real_energy_per_cube)\n",
    "    gen_energy_per_cube = np.sum(gen)/gen.shape[0]\n",
    "    print \"Generated: {:.1f}\".format(gen_energy_per_cube)\n",
    "    \n",
    "    print \"\\nPercent Zero\"\n",
    "    print \"Real: {:.1f}%\".format(100*get_pct_zero(real))\n",
    "    print \"Generated: {:.1f}%\".format(100*get_pct_zero(gen))\n",
    "    \n",
    "    plot_depth_histogram(real,gen)\n",
    "    eval.plot_dispersion(gen[sample_id],real[sample_id])"
   ]
  },
  {
   "cell_type": "code",
   "execution_count": 6,
   "metadata": {
    "collapsed": false
   },
   "outputs": [],
   "source": [
    "dl = data_loader.DataLoader([100], test=True)\n",
    "trunc_iter = dl.batch_iter(0,batch_size=100, num_epochs=2)\n",
    "real,_ = trunc_iter.next()\n",
    "#TODO NOTE I'm truncating to the first 24 layers to equal gen\n",
    "real = real[:,:,:,:24]"
   ]
  },
  {
   "cell_type": "code",
   "execution_count": 7,
   "metadata": {
    "collapsed": false,
    "scrolled": true
   },
   "outputs": [
    {
     "name": "stderr",
     "output_type": "stream",
     "text": [
      "/Users/charguth/anaconda3/envs/py27/lib/python2.7/site-packages/keras/engine/topology.py:1206: UserWarning: The `Merge` layer is deprecated and will be removed after 08/2017. Use instead layers from `keras.layers.merge`, e.g. `add`, `concatenate`, etc.\n",
      "  return cls(**config)\n"
     ]
    }
   ],
   "source": [
    "saved_model = '../rnntest_model'\n",
    "model = keras.models.load_model(saved_model)"
   ]
  },
  {
   "cell_type": "code",
   "execution_count": 8,
   "metadata": {
    "collapsed": false
   },
   "outputs": [],
   "source": [
    "rnn_inputs = rnn_flat.rnn_generator([90,10],10,n_epochs=1,test=True,partition=1)\n",
    "rnn_input = rnn_inputs.next()\n",
    "gen = model.predict(rnn_input[0])\n",
    "gen = gen.swapaxes(1,2).reshape(10,20,20,24)"
   ]
  },
  {
   "cell_type": "code",
   "execution_count": 9,
   "metadata": {
    "collapsed": false
   },
   "outputs": [
    {
     "name": "stdout",
     "output_type": "stream",
     "text": [
      "Total Energy Per Cube\n",
      "Real: 4112.1\n",
      "Generated: 3829.9\n",
      "\n",
      "Percent Zero\n",
      "Real: 87.4%\n",
      "Generated: 86.8%\n",
      "\n",
      "Dist. of Depths of Highest-Energy Layers (per cube)\n"
     ]
    },
    {
     "data": {
      "image/png": "[encoded data removed]",
      "text/plain": [
       "<matplotlib.figure.Figure at 0x113034710>"
      ]
     },
     "metadata": {},
     "output_type": "display_data"
    },
    {
     "data": {
      "image/png": "[encoded data removed]",
      "text/plain": [
       "<matplotlib.figure.Figure at 0x10333b4d0>"
      ]
     },
     "metadata": {},
     "output_type": "display_data"
    }
   ],
   "source": [
    "evaluate_gen(real,gen,5)"
   ]
  },
  {
   "cell_type": "markdown",
   "metadata": {},
   "source": [
    "# TODO\n",
    "- import batch of real and generated data using Israel's code.  More generally, load a model and data, then use the model to produce generated data.  Then we have batches of real and gen tensors\n",
    "- write a function to run the vis modules already built to create the suite of visualizations for the dashboard"
   ]
  },
  {
   "cell_type": "code",
   "execution_count": null,
   "metadata": {
    "collapsed": true
   },
   "outputs": [],
   "source": []
  }
 ],
 "metadata": {
  "anaconda-cloud": {},
  "kernelspec": {
   "display_name": "Python 2",
   "language": "python",
   "name": "python2"
  },
  "language_info": {
   "codemirror_mode": {
    "name": "ipython",
    "version": 2
   },
   "file_extension": ".py",
   "mimetype": "text/x-python",
   "name": "python",
   "nbconvert_exporter": "python",
   "pygments_lexer": "ipython2",
   "version": "2.7.13"
  }
 },
 "nbformat": 4,
 "nbformat_minor": 1
}
